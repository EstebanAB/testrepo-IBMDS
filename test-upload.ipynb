{
 "cells": [
  {
   "cell_type": "raw",
   "id": "995f8a63-3253-4af5-a625-b509ccfd00ad",
   "metadata": {},
   "source": [
    "Definamos el error de un pronóstico como la suma de las diferencias entre el valor real y el pronosticado. Utilizando esta definición, indique cuál de las siguientes alternativas corresponde al error del pronóstico para los últimos 5 días (del día 420 al 424)."
   ]
  },
  {
   "cell_type": "code",
   "execution_count": null,
   "id": "23da8dae-63af-45e0-b63f-bd48f1a494c0",
   "metadata": {},
   "outputs": [],
   "source": [
    "p1 = Llegadas_GRD.tail(5)\n",
    "p1 = p1.rename(columns = {'Día de llegada':'Día','Número de llegada':'Llegadas'})\n",
    "p1['Regresión'] = p1.apply(lambda row: np.round(147.09 + row.Día*8.035,1), axis = 1)\n",
    "p1['Error'] = p1.apply(lambda row: row.Llegadas - row.Regresión, axis = 1)\n",
    "p1"
   ]
  },
  {
   "cell_type": "code",
   "execution_count": null,
   "id": "96b8df15-a2db-4b02-a902-3504b09c7355",
   "metadata": {},
   "outputs": [],
   "source": [
    "np.round(p1['Error'].sum(1,0))"
   ]
  },
  {
   "cell_type": "raw",
   "id": "e7fa890f-c7e7-4bb5-a076-04d746e59da4",
   "metadata": {},
   "source": [
    "Bajo la definición de error (la suma de las diferencias entre el valor real y el pronosticado), indique cuál de los siguientes métodos tiene el menor error de pronóstico para los últimos 5 días (desde el día 420 al 424)."
   ]
  },
  {
   "cell_type": "code",
   "execution_count": null,
   "id": "50d0eddd-6e10-4322-bfea-1e8af5e1729c",
   "metadata": {},
   "outputs": [],
   "source": [
    "p2 = Llegadas_GRD.tail(5)\n",
    "p1 = p1.rename(columns = {'Día de llegada':'Día','Número de llegada':'Llegadas'})\n",
    "p2['Ingenuo'] = [159, 183, 159, 160, 159]\n",
    "p2['MS'] = [np.round(Llegadas_GRD['Número de llegada'].mean(),1) for i in range(0,5)]\n",
    "p2['MM'] = [np.round(Llegadas_GRD['Número de llegada'].iloc[200:418+i].mean(),1) for i in range(0,5)]\n",
    "p2['Regresión'] = p2.apply(lambda row: np.round(147.09+row.Día*0.035,1), axis = 1)\n",
    "p2['Error_1'] = p2.apply(lambda row: row.Llegadas - row.Ingenuo, axis = 1)\n",
    "p2['Error_2'] = p2.apply(lambda row: row.Llegadas - row.MS, axis = 1)\n",
    "p2['Error_3'] = p2.apply(lambda row: row.Llegadas - row.MM, axis = 1)\n",
    "p2['Error_4'] = p2.apply(lambda row: row.Llegadas - row.Regresión, axis = 1)\n",
    "p2"
   ]
  },
  {
   "cell_type": "code",
   "execution_count": null,
   "id": "f689638e-6fa9-4f7f-af26-45654b0ef5ae",
   "metadata": {},
   "outputs": [],
   "source": [
    "print('Error método x:', npround(p2['x'].sum(),0))"
   ]
  }
 ],
 "metadata": {
  "kernelspec": {
   "display_name": "Python 3 (ipykernel)",
   "language": "python",
   "name": "python3"
  },
  "language_info": {
   "codemirror_mode": {
    "name": "ipython",
    "version": 3
   },
   "file_extension": ".py",
   "mimetype": "text/x-python",
   "name": "python",
   "nbconvert_exporter": "python",
   "pygments_lexer": "ipython3",
   "version": "3.9.13"
  }
 },
 "nbformat": 4,
 "nbformat_minor": 5
}
